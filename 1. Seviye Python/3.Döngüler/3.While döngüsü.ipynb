{
 "cells": [
  {
   "cell_type": "markdown",
   "metadata": {},
   "source": [
    "# While Döngüleri"
   ]
  },
  {
   "cell_type": "markdown",
   "metadata": {},
   "source": [
    "Bu bölümde while döngülerinin yapısını ve nasıl kullanılacağını öğrenmeye çalışacağız.\n",
    "\n",
    "while döngüleri belli bir koşul sağlandığı sürece bloğundaki işlemleri gerçekleştirmeye devam eder. while döngülerinin sona ermesi için koşul durumunun bir süre sonra False olması gereklidir.Yapısı şu şekildedir;\n",
    "\n",
    "                            while (koşul):\n",
    "                                İşlem1\n",
    "                                İşlem2\n",
    "                                İşlem3\n",
    "                                  //\n",
    "                                  //\n"
   ]
  },
  {
   "cell_type": "code",
   "execution_count": 2,
   "metadata": {},
   "outputs": [
    {
     "name": "stdout",
     "output_type": "stream",
     "text": [
      "i'nin değeri 0\n",
      "i'nin değeri 1\n",
      "i'nin değeri 2\n",
      "i'nin değeri 3\n",
      "i'nin değeri 4\n"
     ]
    }
   ],
   "source": [
    "# Döngüde i değerlerini ekrana yazdırma\n",
    "\n",
    "i = 0 \n",
    "\n",
    "while (i < 5):\n",
    "    print(\"i'nin değeri\",i)\n",
    "    i += 1 # Koşulun bir süre sonra False olması için gereklidir"
   ]
  },
  {
   "cell_type": "code",
   "execution_count": 3,
   "metadata": {},
   "outputs": [
    {
     "name": "stdout",
     "output_type": "stream",
     "text": [
      "Indeks: 0 Eleman: 1\n",
      "Indeks: 1 Eleman: 2\n",
      "Indeks: 2 Eleman: 3\n",
      "Indeks: 3 Eleman: 4\n",
      "Indeks: 4 Eleman: 5\n"
     ]
    }
   ],
   "source": [
    "# Liste üzerinde indeks ile gezinme\n",
    "liste = [1,2,3,4,5]\n",
    "\n",
    "a = 0 \n",
    "\n",
    "while (a < len(liste)):\n",
    "    print(\"Indeks:\",a,\"Eleman:\",liste[a])\n",
    "    a +=1"
   ]
  },
  {
   "cell_type": "markdown",
   "metadata": {},
   "source": [
    "##### Sonsuz Döngü Olayları"
   ]
  },
  {
   "cell_type": "markdown",
   "metadata": {},
   "source": [
    "while döngüsü kullanırken biraz dikkatli olmamızda fayda var. Çünkü, while döngü koşulunun bir süre sonra False olması gerekecek ki döngümüz sonlanabilsin. Ancak eğer biz while döngülerinde bu durumu unutursak , döngümüz sonsuza kadar çalışacaktır. Biz buna sonsuz döngü olayı diyoruz. Örneğimize bakalım"
   ]
  },
  {
   "cell_type": "code",
   "execution_count": null,
   "metadata": {},
   "outputs": [],
   "source": [
    "# Bu kodu  bence çalıştırmayın IDE'de sıkıntı çıkarabilir :)\n",
    "i = 0 \n",
    "while (i < 10):\n",
    "    print(i)\n",
    "    # i değişkenini artırma işlemi yapmadığımız için i değişkeninin değeri sürekli 0 kalıyor \n",
    "    # ve döngü koşulu sürekli True kalıyor."
   ]
  }
 ],
 "metadata": {
  "interpreter": {
   "hash": "4fa59041cd870ab3d604dcd3b058f8fae0c9452c78486949070723dde45d73e4"
  },
  "kernelspec": {
   "display_name": "Python 3.10.2 64-bit",
   "language": "python",
   "name": "python3"
  },
  "language_info": {
   "codemirror_mode": {
    "name": "ipython",
    "version": 3
   },
   "file_extension": ".py",
   "mimetype": "text/x-python",
   "name": "python",
   "nbconvert_exporter": "python",
   "pygments_lexer": "ipython3",
   "version": "3.10.2"
  },
  "orig_nbformat": 4
 },
 "nbformat": 4,
 "nbformat_minor": 2
}
