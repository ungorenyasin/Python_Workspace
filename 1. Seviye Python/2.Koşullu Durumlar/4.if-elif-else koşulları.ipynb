{
 "cells": [
  {
   "cell_type": "markdown",
   "metadata": {},
   "source": [
    "### Koşullu Durumlar - if - elif - else koşullu durumları\n",
    "\n",
    "Önceki konumuzda koşullu durumlardaki if-else kalıplarımızı öğrendik. Bu bölümde de if-elif-else kalıplarını öğrenmeye çalışacağız.\n",
    "\n",
    "**if-elif-else Blokları**\n",
    "\n",
    "Önceki konumuzda koşullu durumlarımızla sadece tek bir koşulu kontrol edebiliyorduk. Ancak programlamada bir durum bir çok koşula bağlı olabilir. Örneğin bir hesap makinesi programı yazdığımızda kullanıcının girdiği işlemlere göre koşullarımızı belirleyebiliriz. Bu tür durumlar için if-elif-else kalıplarını kullanırız. Kullanımı şu şekildedir;\n",
    "\n",
    "           if koşul: \n",
    "               Yapılacak İşlemler\n",
    "           elif başka bir koşul:\n",
    "               Yapılacak İşlemler\n",
    "           elif başka bir koşul:\n",
    "               Yapılacak İşlemler\n",
    "\n",
    "                //\n",
    "                //\n",
    "           else:\n",
    "               Yapılacak İşlemler \n",
    "Programlarımızda, Kaç tane koşulumuz var ise o kadar elif bloğu oluşturabiliriz. Ayrıca **else** in yazılması zorunlu değildir. if - elif - else kalıplarında, hangi koşul sağlanırsa program o bloğu çalıştırır ve if-elif-blokları sona erer. Şimdi isterseniz kullanıcıya işlem seçtirdiğimiz bir programla , bu kalıbı öğrenmeye başlayalım."
   ]
  },
  {
   "cell_type": "code",
   "execution_count": 1,
   "metadata": {},
   "outputs": [
    {
     "name": "stdout",
     "output_type": "stream",
     "text": [
      "1. işlem seçildi.\n"
     ]
    }
   ],
   "source": [
    "işlem =  int(input(\"İşlem seçiniz:\")) # 3 tane işlemimiz olsun.\n",
    "\n",
    "if işlem == 1:\n",
    "    print(\"1. işlem seçildi.\")\n",
    "elif işlem == 2:\n",
    "    print(\"2. işlem seçildi.\")\n",
    "elif işlem == 3:\n",
    "    print(\"3. işlem seçildi.\")\n",
    "else:\n",
    "    print(\"Geçersiz İşlem!\")"
   ]
  },
  {
   "cell_type": "code",
   "execution_count": 2,
   "metadata": {},
   "outputs": [
    {
     "name": "stdout",
     "output_type": "stream",
     "text": [
      "3. işlem seçildi.\n"
     ]
    }
   ],
   "source": [
    "işlem =  int(input(\"İşlem seçiniz:\")) # 3 tane işlemimiz olsun.\n",
    "\n",
    "if işlem == 1:\n",
    "    print(\"1. işlem seçildi.\")\n",
    "elif işlem == 2:\n",
    "    print(\"2. işlem seçildi.\")\n",
    "elif işlem == 3:\n",
    "    print(\"3. işlem seçildi.\")"
   ]
  },
  {
   "cell_type": "markdown",
   "metadata": {},
   "source": [
    "Peki , **if koşulu olmadan elif bloklarını yazmak mümkün mü ?** Pythonda böyle bir kullanım hataya yol açacaktır."
   ]
  },
  {
   "cell_type": "code",
   "execution_count": 3,
   "metadata": {},
   "outputs": [
    {
     "ename": "SyntaxError",
     "evalue": "invalid syntax (2514721597.py, line 3)",
     "output_type": "error",
     "traceback": [
      "\u001b[1;36m  Input \u001b[1;32mIn [3]\u001b[1;36m\u001b[0m\n\u001b[1;33m    elif işlem == 2:\u001b[0m\n\u001b[1;37m    ^\u001b[0m\n\u001b[1;31mSyntaxError\u001b[0m\u001b[1;31m:\u001b[0m invalid syntax\n"
     ]
    }
   ],
   "source": [
    "işlem =  int(input(\"İşlem seçiniz:\")) # 3 tane işlemimiz olsun.\n",
    "\n",
    "elif işlem == 2:\n",
    "    print(\"2. işlem seçildi.\")\n",
    "elif işlem == 3:\n",
    "    print(\"3. işlem seçildi.\")\n",
    "else:\n",
    "    print(\"Geçersiz İşlem!\")"
   ]
  },
  {
   "cell_type": "markdown",
   "metadata": {},
   "source": [
    "**if-if-if Blokları**\n",
    "\n",
    "Bu blokları öğrenmeden önce isterseniz öğrendiğimiz bilgilerle, bir harf notu hesaplama sistemi yapalım. Daha sonra bu kalıpları anlamaya çalışalım."
   ]
  },
  {
   "cell_type": "code",
   "execution_count": 4,
   "metadata": {},
   "outputs": [
    {
     "name": "stdout",
     "output_type": "stream",
     "text": [
      "Dersten Kaldınız\n"
     ]
    }
   ],
   "source": [
    "note = float(input(\"Notunuzu giriniz:\"))\n",
    "\n",
    "if note >= 90:\n",
    "    print(\"AA\")\n",
    "elif note >= 85:\n",
    "    print(\"BA\")\n",
    "elif note >= 90:\n",
    "    print(\"BA\")\n",
    "elif note >= 80:\n",
    "    print(\"BB\")\n",
    "elif note >= 75:\n",
    "    print(\"CB\")\n",
    "elif note >= 70:\n",
    "    print(\"CC\")\n",
    "elif note >= 65:\n",
    "    print(\"DC\")\n",
    "elif note >= 60:\n",
    "    print(\"DD\")\n",
    "else:\n",
    "    print(\"Dersten Kaldınız\")"
   ]
  }
 ],
 "metadata": {
  "interpreter": {
   "hash": "4fa59041cd870ab3d604dcd3b058f8fae0c9452c78486949070723dde45d73e4"
  },
  "kernelspec": {
   "display_name": "Python 3.10.2 64-bit",
   "language": "python",
   "name": "python3"
  },
  "language_info": {
   "codemirror_mode": {
    "name": "ipython",
    "version": 3
   },
   "file_extension": ".py",
   "mimetype": "text/x-python",
   "name": "python",
   "nbconvert_exporter": "python",
   "pygments_lexer": "ipython3",
   "version": "3.10.2"
  },
  "orig_nbformat": 4
 },
 "nbformat": 4,
 "nbformat_minor": 2
}
