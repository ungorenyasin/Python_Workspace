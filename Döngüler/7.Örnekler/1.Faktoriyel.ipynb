{
 "cells": [
  {
   "cell_type": "code",
   "execution_count": 2,
   "metadata": {},
   "outputs": [
    {
     "name": "stdout",
     "output_type": "stream",
     "text": [
      "*******************\n",
      "Faktoriyel Bulma Programı\n",
      "Programdan çıkmak için 'q' ya basın.\n",
      "*******************\n",
      "Faktoriyel: 120\n",
      "Faktoriyel: 6\n",
      "Faktoriyel: 2\n",
      "Programdan çıkılıyor...\n"
     ]
    }
   ],
   "source": [
    "print(\"\"\"*******************\n",
    "Faktoriyel Bulma Programı\n",
    "Programdan çıkmak için 'q' ya basın.\n",
    "*******************\"\"\")\n",
    "while True:\n",
    "    sayi =  input(\"Sayı:\")\n",
    "    if (sayi == \"q\"):\n",
    "        print(\"Programdan çıkılıyor...\")\n",
    "        break\n",
    "    sayi = int(sayi)\n",
    "\n",
    "    faktoriyel = 1\n",
    "    for i in range(2,sayi+1):\n",
    "        faktoriyel *= i\n",
    "\n",
    "    print(\"Faktoriyel:\",faktoriyel)"
   ]
  }
 ],
 "metadata": {
  "interpreter": {
   "hash": "4fa59041cd870ab3d604dcd3b058f8fae0c9452c78486949070723dde45d73e4"
  },
  "kernelspec": {
   "display_name": "Python 3.10.2 64-bit",
   "language": "python",
   "name": "python3"
  },
  "language_info": {
   "codemirror_mode": {
    "name": "ipython",
    "version": 3
   },
   "file_extension": ".py",
   "mimetype": "text/x-python",
   "name": "python",
   "nbconvert_exporter": "python",
   "pygments_lexer": "ipython3",
   "version": "3.10.2"
  },
  "orig_nbformat": 4
 },
 "nbformat": 4,
 "nbformat_minor": 2
}
