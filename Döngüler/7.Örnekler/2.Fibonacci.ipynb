{
 "cells": [
  {
   "cell_type": "code",
   "execution_count": 1,
   "metadata": {},
   "outputs": [
    {
     "name": "stdout",
     "output_type": "stream",
     "text": [
      "[1, 1, 2, 3, 5, 8, 13, 21, 34, 55, 89, 144]\n"
     ]
    }
   ],
   "source": [
    "\"\"\"\n",
    "Fibonacci Serisi yeni bir sayıyı önceki iki sayının toplamı şeklinde oluşturur.\n",
    "1,1,2,3,5,8,13,21,34...............\n",
    "\"\"\"\n",
    "ilk_sayı = 1\n",
    "\n",
    "ikincisayi = 1\n",
    "\n",
    "fibonacci = [ilk_sayı,ikincisayi]\n",
    "for i in range(10):\n",
    "\n",
    "\n",
    "    ilk_sayı,ikincisayi = ikincisayi,ilk_sayı + ikincisayi\n",
    "\n",
    "    fibonacci.append(ikincisayi)\n",
    "\n",
    "print(fibonacci)"
   ]
  }
 ],
 "metadata": {
  "interpreter": {
   "hash": "4fa59041cd870ab3d604dcd3b058f8fae0c9452c78486949070723dde45d73e4"
  },
  "kernelspec": {
   "display_name": "Python 3.10.2 64-bit",
   "language": "python",
   "name": "python3"
  },
  "language_info": {
   "codemirror_mode": {
    "name": "ipython",
    "version": 3
   },
   "file_extension": ".py",
   "mimetype": "text/x-python",
   "name": "python",
   "nbconvert_exporter": "python",
   "pygments_lexer": "ipython3",
   "version": "3.10.2"
  },
  "orig_nbformat": 4
 },
 "nbformat": 4,
 "nbformat_minor": 2
}
