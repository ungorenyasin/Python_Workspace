{
 "cells": [
  {
   "cell_type": "markdown",
   "metadata": {},
   "source": [
    "# Try - Except (Hatalar ve İstisnalar)"
   ]
  },
  {
   "cell_type": "markdown",
   "metadata": {},
   "source": [
    "##### Try (hatalar) Nedir\n",
    "Python programlarında bazen bir değişkenin tanımlanmadan kullanılmaya çalıştırılması , bazen de yapılamayacak bir aritmetik işlemin yapılması Pythonda hatalara yol açar. Ancak bu istisnai durumlarda, hataların türüne göre programlarımızı daha güvenli bir şekilde yazabiliriz.Yani hata çıkarabilecek kodlarımızı öngörerek bu hataları programlarımızda yakalayabiliriz. Pythondaki bazı hatalara şunlar örnek verilebilir;"
   ]
  },
  {
   "cell_type": "code",
   "execution_count": 1,
   "metadata": {},
   "outputs": [
    {
     "ename": "NameError",
     "evalue": "name 'a' is not defined",
     "output_type": "error",
     "traceback": [
      "\u001b[1;31m---------------------------------------------------------------------------\u001b[0m",
      "\u001b[1;31mNameError\u001b[0m                                 Traceback (most recent call last)",
      "Input \u001b[1;32mIn [1]\u001b[0m, in \u001b[0;36m<module>\u001b[1;34m\u001b[0m\n\u001b[1;32m----> 1\u001b[0m \u001b[38;5;28mprint\u001b[39m(\u001b[43ma\u001b[49m)\n",
      "\u001b[1;31mNameError\u001b[0m: name 'a' is not defined"
     ]
    }
   ],
   "source": [
    "print(a) # Tanımlı değil - Name Error hatası"
   ]
  },
  {
   "cell_type": "code",
   "execution_count": 2,
   "metadata": {},
   "outputs": [
    {
     "ename": "ValueError",
     "evalue": "invalid literal for int() with base 10: 'sdas324234'",
     "output_type": "error",
     "traceback": [
      "\u001b[1;31m---------------------------------------------------------------------------\u001b[0m",
      "\u001b[1;31mValueError\u001b[0m                                Traceback (most recent call last)",
      "Input \u001b[1;32mIn [2]\u001b[0m, in \u001b[0;36m<module>\u001b[1;34m\u001b[0m\n\u001b[1;32m----> 1\u001b[0m \u001b[38;5;28;43mint\u001b[39;49m\u001b[43m(\u001b[49m\u001b[38;5;124;43m\"\u001b[39;49m\u001b[38;5;124;43msdas324234\u001b[39;49m\u001b[38;5;124;43m\"\u001b[39;49m\u001b[43m)\u001b[49m\n",
      "\u001b[1;31mValueError\u001b[0m: invalid literal for int() with base 10: 'sdas324234'"
     ]
    }
   ],
   "source": [
    "int(\"1oözil\") # Value Error Hatası"
   ]
  },
  {
   "cell_type": "code",
   "execution_count": 3,
   "metadata": {},
   "outputs": [
    {
     "ename": "ZeroDivisionError",
     "evalue": "division by zero",
     "output_type": "error",
     "traceback": [
      "\u001b[1;31m---------------------------------------------------------------------------\u001b[0m",
      "\u001b[1;31mZeroDivisionError\u001b[0m                         Traceback (most recent call last)",
      "Input \u001b[1;32mIn [3]\u001b[0m, in \u001b[0;36m<module>\u001b[1;34m\u001b[0m\n\u001b[1;32m----> 1\u001b[0m \u001b[38;5;241;43m2\u001b[39;49m\u001b[43m \u001b[49m\u001b[38;5;241;43m/\u001b[39;49m\u001b[43m \u001b[49m\u001b[38;5;241;43m0\u001b[39;49m\n",
      "\u001b[1;31mZeroDivisionError\u001b[0m: division by zero"
     ]
    }
   ],
   "source": [
    "2 / 0 # Bir sayı 0'a bölünemez."
   ]
  },
  {
   "cell_type": "code",
   "execution_count": 5,
   "metadata": {},
   "outputs": [
    {
     "ename": "SyntaxError",
     "evalue": "invalid syntax. Perhaps you forgot a comma? (1412932132.py, line 1)",
     "output_type": "error",
     "traceback": [
      "\u001b[1;36m  Input \u001b[1;32mIn [5]\u001b[1;36m\u001b[0m\n\u001b[1;33m    print('2011 şampiyonu fenerbahçe'sadasdasdasd) # Syntax Error\u001b[0m\n\u001b[1;37m          ^\u001b[0m\n\u001b[1;31mSyntaxError\u001b[0m\u001b[1;31m:\u001b[0m invalid syntax. Perhaps you forgot a comma?\n"
     ]
    }
   ],
   "source": [
    "print('2011 şampiyonu fenerbahçe'sadasdasdasd) # Syntax Error"
   ]
  },
  {
   "cell_type": "markdown",
   "metadata": {},
   "source": [
    "# Hata yakalama - try,except,finally\n",
    "##### Try , except blokları\n",
    "try, except bloklarının yapısı şu şekildedir;\n",
    "\n",
    "            try:\n",
    "                Hata çıkabilecek kodlar buraya yazılıyor.\n",
    "                Eğer hata çıkarsa program uygun olan except bloğuna girecek.\n",
    "                Hata oluşursa try bloğunun geri kalanındaki işlemler çalışmayacak.\n",
    "            except Hata1:\n",
    "                Hata1 oluştuğunda burası çalışacak.\n",
    "            except Hata2:\n",
    "                Hata2 oluştuğunda burası çalışacak.\n",
    "                //\n",
    "                //\n",
    "                //\n",
    "                //\n",
    "                "
   ]
  },
  {
   "cell_type": "code",
   "execution_count": 7,
   "metadata": {},
   "outputs": [
    {
     "name": "stdout",
     "output_type": "stream",
     "text": [
      "bir hata oluştu\n",
      "kodumuz bitti.\n"
     ]
    }
   ],
   "source": [
    "try:\n",
    "    sayi = int(\"10özil\")     # Value Error Hatası var\n",
    "    print(\"program bu satırda\")\n",
    "except:  \n",
    "                             # özel olarak hiçbir hata belirtmezsek program except komutunu çalıştırır. en genel  except yazımı  ~Exception~ dur.\n",
    "    print(\"bir hata oluştu\")\n",
    "    \n",
    "print(\"kodumuz bitti.\")"
   ]
  },
  {
   "cell_type": "code",
   "execution_count": 8,
   "metadata": {},
   "outputs": [
    {
     "name": "stdout",
     "output_type": "stream",
     "text": [
      "bir hata oluştu\n",
      "kodumuz bitti.\n"
     ]
    }
   ],
   "source": [
    "try:\n",
    "    sayi = int(\"10özil\")    \n",
    "    print(\"program bu satırda\")\n",
    "except ValueError:                   # program sadece ValueError hatası verdiği zaman except komutu çalışacak , aksi taktirde çalışmayacak.                             \n",
    "    print(\"bir hata oluştu\")\n",
    "    \n",
    "print(\"kodumuz bitti.\")"
   ]
  },
  {
   "cell_type": "code",
   "execution_count": 22,
   "metadata": {},
   "outputs": [
    {
     "ename": "IndentationError",
     "evalue": "unindent does not match any outer indentation level (<tokenize>, line 3)",
     "output_type": "error",
     "traceback": [
      "\u001b[1;36m  File \u001b[1;32m<tokenize>:3\u001b[1;36m\u001b[0m\n\u001b[1;33m    print(\"program bu satırda\")\u001b[0m\n\u001b[1;37m    ^\u001b[0m\n\u001b[1;31mIndentationError\u001b[0m\u001b[1;31m:\u001b[0m unindent does not match any outer indentation level\n"
     ]
    }
   ],
   "source": [
    "try:\n",
    "     print(özil)   \n",
    "    print(\"program bu satırda\")\n",
    "except ValueError:                   # \"özil\" Tanımlı değil - NameError hatası veriyor ve bu yüzden ~except ValueError~ kodunu çalıştırmıyor.                           \n",
    "    print(\"bir hata oluştu\")\n",
    "    \n",
    "print(\"kodumuz bitti.\")"
   ]
  },
  {
   "cell_type": "code",
   "execution_count": 82,
   "metadata": {},
   "outputs": [
    {
     "name": "stdout",
     "output_type": "stream",
     "text": [
      "bir hata oluştu\n",
      "kodumuz bitti.\n"
     ]
    }
   ],
   "source": [
    "try:\n",
    "    print(özil)   \n",
    "    print(\"program bu satırda\")\n",
    "except NameError:                                         \n",
    "    print(\"bir hata oluştu\")\n",
    "    \n",
    "print(\"kodumuz bitti.\")"
   ]
  },
  {
   "cell_type": "code",
   "execution_count": 89,
   "metadata": {},
   "outputs": [
    {
     "name": "stdout",
     "output_type": "stream",
     "text": [
      "lütfen sadece sayı giriniz!\n",
      "kod sona erdi\n"
     ]
    }
   ],
   "source": [
    "try:\n",
    "    a = int(input(\"lütfen bir sayı giriniz:\"))\n",
    "    b = int(input(\"lütfen bir sayı giriniz:\"))\n",
    "    print(a/b)\n",
    "except ValueError:\n",
    "    print(\"lütfen sadece sayı giriniz!\")\n",
    "except ZeroDivisionError:\n",
    "    print(\"bir sayı sıfıra bölünemez..\")\n",
    "print(\"kod sona erdi\")"
   ]
  },
  {
   "cell_type": "markdown",
   "metadata": {},
   "source": [
    "* iki veya daha fazla  hataları tek except bloğunda yazabiliriz. böyle kodumuzu genelleştirmiş oluruz, pek tercihedilmesi gereken yazım şekli değildir."
   ]
  },
  {
   "cell_type": "code",
   "execution_count": 91,
   "metadata": {},
   "outputs": [
    {
     "name": "stdout",
     "output_type": "stream",
     "text": [
      "girdiğiniz sayıyı kontrol edin ve sıfır girmişseniz değiştirin.\n",
      "kod sona erdi\n"
     ]
    }
   ],
   "source": [
    "try:\n",
    "    a = int(input(\"lütfen bir sayı giriniz:\"))\n",
    "    b = int(input(\"lütfen bir sayı giriniz:\"))\n",
    "    print(a/b)\n",
    "except (ValueError,ZeroDivisionError):\n",
    "    print(\"girdiğiniz sayıyı kontrol edin ve sıfır girmişseniz değiştirin.\")\n",
    "print(\"kod sona erdi\")"
   ]
  },
  {
   "cell_type": "markdown",
   "metadata": {},
   "source": [
    "##### try,except,finally blokları\n",
    "Bazen programlarımızda her durumda mutlaka çalışmasını istediğimiz kodlar bulunabilir.Bunun için biz kendi try,except bloklarına ek olarak bir tane ~finally~ bloğu eklemeliyiz.~finally~ blokları hata olması veya olmaması durumunda mutlaka çalışacaktır. Yapısı şu şekilde;\n",
    "  \n",
    "            try:\n",
    "                Hata çıkabilecek kodlar buraya yazılıyor.\n",
    "                Eğer hata çıkarsa program uygun olan except bloğuna girecek.\n",
    "                Hata oluşursa try bloğunun geri kalanındaki işlemler çalışmayacak.\n",
    "            except Hata1:\n",
    "                Hata1 oluştuğunda burası çalışacak.\n",
    "            except Hata2:\n",
    "                Hata2 oluştuğunda burası çalışacak.\n",
    "                //\n",
    "                //\n",
    "                //\n",
    "            finally:\n",
    "                Mutlaka çalışması gereken kodlar buraya yazılacak.\n",
    "                Bu blok her türlü çalışacak."
   ]
  },
  {
   "cell_type": "code",
   "execution_count": 93,
   "metadata": {},
   "outputs": [
    {
     "name": "stdout",
     "output_type": "stream",
     "text": [
      "bir sayı sıfıra bölünemez..\n",
      "bu satır kesin çalışacak\n",
      "kod sona erdi\n"
     ]
    }
   ],
   "source": [
    "try:\n",
    "    a = int(input(\"lütfen bir sayı giriniz:\"))\n",
    "    b = int(input(\"lütfen bir sayı giriniz:\"))\n",
    "    print(a/b)\n",
    "except ValueError:\n",
    "    print(\"lütfen sadece sayı giriniz!\")\n",
    "except ZeroDivisionError:\n",
    "    print(\"bir sayı sıfıra bölünemez..\")\n",
    "finally:\n",
    "    print(\"bu satır kesin çalışacak\")\n",
    "print(\"kod sona erdi\")"
   ]
  },
  {
   "cell_type": "markdown",
   "metadata": {},
   "source": [
    "##### HATA FIRLATMAK\n",
    "\n",
    "Bazen kendi yazdığımız fonksiyonlar yanlış kullanılırsa kendi hatalarımızı üretip Pythonda bu hataları fırlatabiliriz.Bunun için **raise** anahtar kelimesini kullanacağız.Hata fırlatma şu şekilde yapılabilmektedir.\n",
    "\n",
    "~raise~ **HataAdı**(isteğe bağlı hata mesajı) \n",
    "\n"
   ]
  },
  {
   "cell_type": "code",
   "execution_count": 109,
   "metadata": {},
   "outputs": [
    {
     "ename": "ValueError",
     "evalue": "lütfen string değer girin.",
     "output_type": "error",
     "traceback": [
      "\u001b[1;31m---------------------------------------------------------------------------\u001b[0m",
      "\u001b[1;31mValueError\u001b[0m                                Traceback (most recent call last)",
      "Input \u001b[1;32mIn [109]\u001b[0m, in \u001b[0;36m<module>\u001b[1;34m\u001b[0m\n\u001b[0;32m      4\u001b[0m     \u001b[38;5;28;01melse\u001b[39;00m:\n\u001b[0;32m      5\u001b[0m         \u001b[38;5;28;01mreturn\u001b[39;00m s[::\u001b[38;5;241m-\u001b[39m\u001b[38;5;241m1\u001b[39m]\n\u001b[1;32m----> 7\u001b[0m \u001b[38;5;28mprint\u001b[39m(\u001b[43mterscevir\u001b[49m\u001b[43m(\u001b[49m\u001b[38;5;241;43m54\u001b[39;49m\u001b[43m)\u001b[49m)\n",
      "Input \u001b[1;32mIn [109]\u001b[0m, in \u001b[0;36mterscevir\u001b[1;34m(s)\u001b[0m\n\u001b[0;32m      1\u001b[0m \u001b[38;5;28;01mdef\u001b[39;00m \u001b[38;5;21mterscevir\u001b[39m(s):\n\u001b[0;32m      2\u001b[0m     \u001b[38;5;28;01mif\u001b[39;00m (\u001b[38;5;28mtype\u001b[39m(s) \u001b[38;5;241m!=\u001b[39m \u001b[38;5;28mstr\u001b[39m):\n\u001b[1;32m----> 3\u001b[0m         \u001b[38;5;28;01mraise\u001b[39;00m \u001b[38;5;167;01mValueError\u001b[39;00m(\u001b[38;5;124m\"\u001b[39m\u001b[38;5;124mlütfen string değer girin.\u001b[39m\u001b[38;5;124m\"\u001b[39m)\n\u001b[0;32m      4\u001b[0m     \u001b[38;5;28;01melse\u001b[39;00m:\n\u001b[0;32m      5\u001b[0m         \u001b[38;5;28;01mreturn\u001b[39;00m s[::\u001b[38;5;241m-\u001b[39m\u001b[38;5;241m1\u001b[39m]\n",
      "\u001b[1;31mValueError\u001b[0m: lütfen string değer girin."
     ]
    }
   ],
   "source": [
    "def terscevir(s):\n",
    "    if (type(s) != str):\n",
    "        raise ValueError(\"lütfen string değer girin.\")\n",
    "    else:\n",
    "        return s[::-1]\n",
    "\n",
    "print(terscevir(54))"
   ]
  },
  {
   "cell_type": "markdown",
   "metadata": {},
   "source": [
    "* Bunun gibi Pythonda yüzlerce hata bulunur. Ancak bunların hiçbirini ezberlememize gerek yok. Kodumuzun durumuna göre zaten biz hataları çıktı olarak görebiliyoruz. Tüm hata komutlarına ve açıklamalarına aşağıdaki linkten ulaşabiliriz.\n",
    "\n",
    "    https://docs.python.org/3/library/exceptions.html\n"
   ]
  },
  {
   "cell_type": "markdown",
   "metadata": {},
   "source": []
  }
 ],
 "metadata": {
  "interpreter": {
   "hash": "4fa59041cd870ab3d604dcd3b058f8fae0c9452c78486949070723dde45d73e4"
  },
  "kernelspec": {
   "display_name": "Python 3.10.0 64-bit",
   "language": "python",
   "name": "python3"
  },
  "language_info": {
   "codemirror_mode": {
    "name": "ipython",
    "version": 3
   },
   "file_extension": ".py",
   "mimetype": "text/x-python",
   "name": "python",
   "nbconvert_exporter": "python",
   "pygments_lexer": "ipython3",
   "version": "3.10.0"
  },
  "orig_nbformat": 4
 },
 "nbformat": 4,
 "nbformat_minor": 2
}
