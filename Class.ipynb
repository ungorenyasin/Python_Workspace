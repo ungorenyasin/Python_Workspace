{
 "cells": [
  {
   "cell_type": "markdown",
   "metadata": {},
   "source": [
    "# Nesne Tabanlı Programlama - Sınıflar (Class)\n"
   ]
  },
  {
   "cell_type": "markdown",
   "metadata": {},
   "source": [
    "# Class Anahtar Kelimesi\n",
    "* Sınıflar veya Classlar objelerimizi oluştururken objelerin özelliklerini ve metodlarını tanımladığımız bir yapıdır ve biz herbir objeyi bu yapıya göre üretiriz. İsterseniz bir Araba classı tanımlayarak yapımızı kurmaya başlayalım."
   ]
  },
  {
   "cell_type": "code",
   "execution_count": 10,
   "metadata": {},
   "outputs": [],
   "source": [
    "class araba():\n",
    "    marka=\"hyundai\"\n",
    "    model=\"accent\"\n",
    "    renk=\"kırmızı\"\n",
    "    motor=1300\n"
   ]
  },
  {
   "cell_type": "markdown",
   "metadata": {},
   "source": [
    "*Sınıfımızı Pythonda tanımladık. Peki bu sınıftan obje nasıl oluşturacağız ? Bunu da şu şekilde yapabiliyoruz.\n",
    "* #####  `obje_ismi` = **Sınıf_İsmi**(parametreler(`opsiyonel`))"
   ]
  },
  {
   "cell_type": "code",
   "execution_count": 12,
   "metadata": {},
   "outputs": [],
   "source": [
    "araba1= araba()\n"
   ]
  },
  {
   "cell_type": "markdown",
   "metadata": {},
   "source": [
    "* araba1 objesi artık sınıfta tanımladığımız bütün özelliklere (attributes) sahip olmuş oldu. İşte sınıf ve obje üretmek bu şekilde olmaktadır. Peki bu araba objesinin özelliklerinin nasıl görebiliriz ?"
   ]
  },
  {
   "cell_type": "markdown",
   "metadata": {},
   "source": [
    "**obje_ismi**.`özellik_ismi`"
   ]
  },
  {
   "cell_type": "code",
   "execution_count": 8,
   "metadata": {},
   "outputs": [
    {
     "data": {
      "text/plain": [
       "'accent'"
      ]
     },
     "execution_count": 8,
     "metadata": {},
     "output_type": "execute_result"
    }
   ],
   "source": [
    "araba1.model"
   ]
  },
  {
   "cell_type": "markdown",
   "metadata": {},
   "source": [
    "* Bizim her bir objeyi başlangıçta farklı değerlerle oluşturmamız için her bir objeyi oluştururken objelerin değerlerini göndermemiz gerekiyor. Bunun için de özel bir metodu kullanmamız gerekmektedir\n",
    "\n",
    "         __init__ ()\n",
    "\n",
    "Aslında init metodu Pythonda yapıcı(constructor ) fonksiyon olarak tanımlanmaktadır. Bu metod objelerimiz oluşturulurken otomatik olarak ilk çağrılan fonksiyondur. Bu metodu özel olarak tanımlayarak objelerimizi farklı değerlerle oluşturabiliriz.\n",
    "\n",
    "Peki bu metodu nasıl tanımlayacağız ? Direk örnek üzerinden görmeye çalışalım."
   ]
  },
  {
   "cell_type": "code",
   "execution_count": 13,
   "metadata": {},
   "outputs": [],
   "source": [
    "# Araba Veri tipi \n",
    "\n",
    "class Araba():\n",
    "    # Şimdilik Class özelliklerine ihtiyacımız yok.\n",
    "    \n",
    "    def __init__(self):\n",
    "        print(\"init fonksiyonu çağrıldı.\")"
   ]
  },
  {
   "cell_type": "code",
   "execution_count": 15,
   "metadata": {},
   "outputs": [
    {
     "name": "stdout",
     "output_type": "stream",
     "text": [
      "init fonksiyonu çağrıldı.\n"
     ]
    }
   ],
   "source": [
    "araba1=Araba()"
   ]
  },
  {
   "cell_type": "markdown",
   "metadata": {},
   "source": [
    "Peki burada self ne anlama geliyor ? self anahtar kelimesi objeyi oluşturduğumuz zaman o objeyi gösteren bir referanstır ve metodlarımızda en başta bulunması gereken bir parametredir. Yani biz bir objenin bütün özelliklerini ve metodlarını bu referans üzerinden kullanabiliriz.\n",
    "\n",
    "Objeler oluşturulurken, Python bu referansı metodlara otomatik olarak kendisi gönderir. Özel olarak self referansını göndermemize gerek yoktur.\n",
    "\n",
    "init metodunu ve self'i iyi anlamak için objelerimize özellikler ekleyelim."
   ]
  },
  {
   "cell_type": "code",
   "execution_count": 29,
   "metadata": {},
   "outputs": [],
   "source": [
    "class Arabam():\n",
    "\n",
    "    def __init__(self,marka,model,renk,motor):\n",
    "        self.marka = marka\n",
    "        self.model = model\n",
    "        self.renk = renk\n",
    "        self.motor = motor"
   ]
  },
  {
   "cell_type": "code",
   "execution_count": 35,
   "metadata": {},
   "outputs": [
    {
     "data": {
      "text/plain": [
       "'gri'"
      ]
     },
     "execution_count": 35,
     "metadata": {},
     "output_type": "execute_result"
    }
   ],
   "source": [
    "araba1=Arabam(\"hyundai\",\"accent\",\"gri\",1400)\n",
    "araba1.renk"
   ]
  },
  {
   "cell_type": "code",
   "execution_count": 36,
   "metadata": {},
   "outputs": [
    {
     "data": {
      "text/plain": [
       "'mavi'"
      ]
     },
     "execution_count": 36,
     "metadata": {},
     "output_type": "execute_result"
    }
   ],
   "source": [
    "araba2=Arabam(\"ford\",\"mustang\",\"mavi\",\"2000\")\n",
    "araba2.renk"
   ]
  },
  {
   "cell_type": "markdown",
   "metadata": {},
   "source": [
    "* İstersek init metodunu varsayılan değerlerle de yazabiliriz."
   ]
  },
  {
   "cell_type": "code",
   "execution_count": 2,
   "metadata": {},
   "outputs": [],
   "source": [
    "class Arabam():\n",
    "\n",
    "    def __init__(self,marka=\"bilgi yok\",model=\"bilgi yok\",renk=\"bilgi yok\",motor=\"bilgi yok\"):\n",
    "        self.marka = marka\n",
    "        self.model = model\n",
    "        self.renk = renk\n",
    "        self.motor = motor"
   ]
  },
  {
   "cell_type": "code",
   "execution_count": 3,
   "metadata": {},
   "outputs": [
    {
     "data": {
      "text/plain": [
       "<__main__.Arabam at 0x17ff97b0e20>"
      ]
     },
     "execution_count": 3,
     "metadata": {},
     "output_type": "execute_result"
    }
   ],
   "source": [
    "araba3 = Arabam(marka=\"hyundai\", model=\"accent\")\n",
    "araba3"
   ]
  },
  {
   "cell_type": "markdown",
   "metadata": {},
   "source": [
    "# Metodlar"
   ]
  },
  {
   "cell_type": "code",
   "execution_count": 103,
   "metadata": {},
   "outputs": [],
   "source": [
    "class yazılımcı():\n",
    "    def __init__(self,ad,soyad,numara,maaş,dil):\n",
    "        self.ad = ad\n",
    "        self.soyad = soyad\n",
    "        self.numara = numara\n",
    "        self.maaş = maaş\n",
    "        self.dil = dil\n",
    "    def bilgileri_göster(self):\n",
    "        print(\"\"\"\"\n",
    "        yazılımcının özellikleri\n",
    "\n",
    "        ad : {}\n",
    "\n",
    "        soyad : {}\n",
    "\n",
    "        numara : {}\n",
    "\n",
    "        maaş : {}\n",
    "\n",
    "        dil : {}\n",
    "\n",
    "        \"\"\".format(self.ad,self.soyad,self.numara,self.maaş,self.dil))\n",
    "\n",
    "    def dil_ekle(self,dil_ekle):\n",
    "        self.dil.append(dil_ekle)\n",
    "        print( \"eklendi\")\n",
    "    def maas_zam(self,zam):\n",
    "        print(\"zam yapıldı\")\n",
    "        self.maaş += zam\n",
    "        \n",
    "        "
   ]
  },
  {
   "cell_type": "code",
   "execution_count": 107,
   "metadata": {},
   "outputs": [
    {
     "name": "stdout",
     "output_type": "stream",
     "text": [
      "zam yapıldı\n"
     ]
    }
   ],
   "source": [
    "personel1 = yazılımcı(\"murat\",\"boz\",\"10\",1200,[\"türkçe\",\"arapça\"])\n",
    "personel1.maas_zam(100)\n"
   ]
  },
  {
   "cell_type": "code",
   "execution_count": 108,
   "metadata": {},
   "outputs": [
    {
     "name": "stdout",
     "output_type": "stream",
     "text": [
      "\"\n",
      "        yazılımcının özellikleri\n",
      "\n",
      "        ad : murat\n",
      "\n",
      "        soyad : boz\n",
      "\n",
      "        numara : 10\n",
      "\n",
      "        maaş : 1300\n",
      "\n",
      "        dil : ['türkçe', 'arapça']\n",
      "\n",
      "        \n"
     ]
    }
   ],
   "source": [
    "personel1.bilgileri_göster()"
   ]
  },
  {
   "cell_type": "code",
   "execution_count": 109,
   "metadata": {},
   "outputs": [
    {
     "name": "stdout",
     "output_type": "stream",
     "text": [
      "eklendi\n"
     ]
    }
   ],
   "source": [
    "personel1.dil_ekle(\"fransizca\")"
   ]
  },
  {
   "cell_type": "code",
   "execution_count": 110,
   "metadata": {},
   "outputs": [
    {
     "name": "stdout",
     "output_type": "stream",
     "text": [
      "\"\n",
      "        yazılımcının özellikleri\n",
      "\n",
      "        ad : murat\n",
      "\n",
      "        soyad : boz\n",
      "\n",
      "        numara : 10\n",
      "\n",
      "        maaş : 1300\n",
      "\n",
      "        dil : ['türkçe', 'arapça', 'fransizca']\n",
      "\n",
      "        \n"
     ]
    }
   ],
   "source": [
    "personel1.bilgileri_göster()"
   ]
  }
 ],
 "metadata": {
  "interpreter": {
   "hash": "4fa59041cd870ab3d604dcd3b058f8fae0c9452c78486949070723dde45d73e4"
  },
  "kernelspec": {
   "display_name": "Python 3.10.0 64-bit",
   "language": "python",
   "name": "python3"
  },
  "language_info": {
   "codemirror_mode": {
    "name": "ipython",
    "version": 3
   },
   "file_extension": ".py",
   "mimetype": "text/x-python",
   "name": "python",
   "nbconvert_exporter": "python",
   "pygments_lexer": "ipython3",
   "version": "3.10.0"
  },
  "orig_nbformat": 4
 },
 "nbformat": 4,
 "nbformat_minor": 2
}
