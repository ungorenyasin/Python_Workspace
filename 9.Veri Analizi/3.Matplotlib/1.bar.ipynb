{
 "cells": [
  {
   "cell_type": "code",
   "execution_count": 6,
   "metadata": {},
   "outputs": [],
   "source": [
    "import numpy as np\n",
    "import pandas as pd\n",
    "%matplotlib inline"
   ]
  },
  {
   "cell_type": "code",
   "execution_count": 9,
   "metadata": {},
   "outputs": [
    {
     "ename": "NameError",
     "evalue": "name 'plt' is not defined",
     "output_type": "error",
     "traceback": [
      "\u001b[1;31m---------------------------------------------------------------------------\u001b[0m",
      "\u001b[1;31mNameError\u001b[0m                                 Traceback (most recent call last)",
      "\u001b[1;32mc:\\Users\\yasin\\Python_Workspace\\Matplotlib\\1.bar.ipynb Cell 2'\u001b[0m in \u001b[0;36m<module>\u001b[1;34m\u001b[0m\n\u001b[0;32m      <a href='vscode-notebook-cell:/c%3A/Users/yasin/Python_Workspace/Matplotlib/1.bar.ipynb#ch0000001?line=8'>9</a>\u001b[0m Colors \u001b[39m=\u001b[39m [\u001b[39m'\u001b[39m\u001b[39mpurple\u001b[39m\u001b[39m'\u001b[39m,\u001b[39m'\u001b[39m\u001b[39mgreen\u001b[39m\u001b[39m'\u001b[39m]\n\u001b[0;32m     <a href='vscode-notebook-cell:/c%3A/Users/yasin/Python_Workspace/Matplotlib/1.bar.ipynb#ch0000001?line=9'>10</a>\u001b[0m \u001b[39m#plt.figure(figsize=(20,10))\u001b[39;00m\n\u001b[1;32m---> <a href='vscode-notebook-cell:/c%3A/Users/yasin/Python_Workspace/Matplotlib/1.bar.ipynb#ch0000001?line=10'>11</a>\u001b[0m plt\u001b[39m.\u001b[39mbar(anlık_hedef, adet,color\u001b[39m=\u001b[39mColors) \n\u001b[0;32m     <a href='vscode-notebook-cell:/c%3A/Users/yasin/Python_Workspace/Matplotlib/1.bar.ipynb#ch0000001?line=11'>12</a>\u001b[0m plt\u001b[39m.\u001b[39mtitle(\u001b[39m'\u001b[39m\u001b[39manlık_hedef Vs adet\u001b[39m\u001b[39m'\u001b[39m)\n\u001b[0;32m     <a href='vscode-notebook-cell:/c%3A/Users/yasin/Python_Workspace/Matplotlib/1.bar.ipynb#ch0000001?line=12'>13</a>\u001b[0m plt\u001b[39m.\u001b[39mxlabel(\u001b[39m'\u001b[39m\u001b[39manlık_hedef\u001b[39m\u001b[39m'\u001b[39m)\n",
      "\u001b[1;31mNameError\u001b[0m: name 'plt' is not defined"
     ]
    }
   ],
   "source": [
    "anlık_hedef = ['Hedef','anlik']\n",
    "adet = [2000,1]\n",
    "count = 0 \n",
    "while True:\n",
    "    adet.pop(1)\n",
    "    count = count+1\n",
    "    adet.append(count)\n",
    "    width = [0.35,0.35]\n",
    "    Colors = ['purple','green']\n",
    "    #plt.figure(figsize=(20,10))\n",
    "    plt.bar(anlık_hedef, adet,color=Colors) \n",
    "    plt.title('anlık_hedef Vs adet')\n",
    "    plt.xlabel('anlık_hedef')\n",
    "    plt.ylabel('adet')\n",
    "    plt.grid(linestyle='--')\n",
    "    plt.show()\n",
    "    sleep(2)"
   ]
  },
  {
   "cell_type": "code",
   "execution_count": null,
   "metadata": {},
   "outputs": [],
   "source": []
  }
 ],
 "metadata": {
  "interpreter": {
   "hash": "4fa59041cd870ab3d604dcd3b058f8fae0c9452c78486949070723dde45d73e4"
  },
  "kernelspec": {
   "display_name": "Python 3.10.2 64-bit",
   "language": "python",
   "name": "python3"
  },
  "language_info": {
   "codemirror_mode": {
    "name": "ipython",
    "version": 3
   },
   "file_extension": ".py",
   "mimetype": "text/x-python",
   "name": "python",
   "nbconvert_exporter": "python",
   "pygments_lexer": "ipython3",
   "version": "3.10.2"
  },
  "orig_nbformat": 4
 },
 "nbformat": 4,
 "nbformat_minor": 2
}
