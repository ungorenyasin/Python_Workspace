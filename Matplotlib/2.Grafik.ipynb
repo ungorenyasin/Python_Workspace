{
 "cells": [
  {
   "cell_type": "code",
   "execution_count": 4,
   "metadata": {},
   "outputs": [],
   "source": [
    "import matplotlib.pyplot as plt\n",
    "import numpy as np\n",
    "import pandas as pd\n",
    "%matplotlib inline\n",
    "from time import perf_counter, sleep\n",
    "import random"
   ]
  },
  {
   "cell_type": "code",
   "execution_count": 5,
   "metadata": {},
   "outputs": [],
   "source": [
    "anlik_cevrim= []\n",
    "adet = []\n",
    "count = 0 \n",
    "ortalama_cevrim = []"
   ]
  },
  {
   "cell_type": "code",
   "execution_count": null,
   "metadata": {},
   "outputs": [],
   "source": [
    "while True:\n",
    "    \n",
    "    a = random.uniform(10,15)\n",
    "    if len(anlik_cevrim) >10:\n",
    "        adet.pop(0)\n",
    "        anlik_cevrim.pop(0)   \n",
    "        ortalama_cevrim.pop(0)\n",
    "        ortalama = (sum(anlik_cevrim)/(count))\n",
    "        ortalama_cevrim.append(ortalama)\n",
    "        anlik_cevrim.append(a)\n",
    "        adet.append(count)        \n",
    "        count = count + 1\n",
    "       \n",
    "    else:\n",
    "        \n",
    "        anlik_cevrim.append(a)\n",
    "        count = count +1\n",
    "        adet.append(count)\n",
    "        ortalama = (sum(anlik_cevrim)/(count))\n",
    "        ortalama_cevrim.append(ortalama)\n",
    "    \n",
    "\n",
    "\n",
    "    with plt.style.context('Solarize_Light2'):        #fivethirtyeight  , Solarize_Light2 , ggplot, default\n",
    "        plt.plot(adet,anlik_cevrim,label=\"anlık çevrim değeri\",color=\"blue\",linewidth=1,linestyle='dotted',marker=\"2\",markersize=9,markerfacecolor=\"yellow\",markeredgewidth=2,markeredgecolor=\"blue\",alpha=0.7)\n",
    "        plt.plot(adet,ortalama_cevrim,color=\"g\",linewidth=1 ,linestyle='dashdot',alpha=0.7,marker=\"1\",markersize=9,markerfacecolor=\"yellow\",markeredgewidth=2,markeredgecolor=\"g\",label=\"ortalama çevrim değeri\")\n",
    "        plt.xlabel(\"Adet sayısı\")\n",
    "        plt.ylabel(\"bıçak değeri\")\n",
    "        plt.title(\"ortalama ve anlık çevrim süresi\")\n",
    "        plt.legend([\"anlık çevrim \",\"ortalama çevrim\"]) # loc=(1,1)\n",
    "        plt.grid(True,linestyle='dotted')\n",
    "        plt.savefig(\"grafik.png\",dpi = 150)\n",
    "        sleep(5)\n",
    "    \n",
    "    plt.show()"
   ]
  }
 ],
 "metadata": {
  "interpreter": {
   "hash": "4fa59041cd870ab3d604dcd3b058f8fae0c9452c78486949070723dde45d73e4"
  },
  "kernelspec": {
   "display_name": "Python 3.10.2 64-bit",
   "language": "python",
   "name": "python3"
  },
  "language_info": {
   "codemirror_mode": {
    "name": "ipython",
    "version": 3
   },
   "file_extension": ".py",
   "mimetype": "text/x-python",
   "name": "python",
   "nbconvert_exporter": "python",
   "pygments_lexer": "ipython3",
   "version": "3.10.2"
  },
  "orig_nbformat": 4
 },
 "nbformat": 4,
 "nbformat_minor": 2
}
