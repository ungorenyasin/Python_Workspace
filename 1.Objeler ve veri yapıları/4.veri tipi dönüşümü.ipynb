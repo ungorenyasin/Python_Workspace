{
 "cells": [
  {
   "cell_type": "markdown",
   "metadata": {},
   "source": [
    "**Veri tipi Dönüşümleri**\n",
    "\n",
    "Pythonda ve diğer çoğu programlama dilinde veritiplerinin birbirine dönüştürülmesi oldukça önemlidir. Bazı zaman bir ondalıklı sayıyı tamsayıya dönüştürme, hatta ve hatta bir string'i tamsayıya dönüştürme işlemleri programlarımızı yazarken büyük önem taşır.\n",
    "\n",
    "**Tamsayıyı Ondalıklı Sayıya Çevirme**\n",
    "\n",
    "Bir tamsayı değeri(integer) ondalıklı sayıya(float) çevirmek için float() fonksiyonunu kullanabiliriz."
   ]
  },
  {
   "cell_type": "code",
   "execution_count": 1,
   "metadata": {},
   "outputs": [
    {
     "data": {
      "text/plain": [
       "43.0"
      ]
     },
     "execution_count": 1,
     "metadata": {},
     "output_type": "execute_result"
    }
   ],
   "source": [
    "# Çevireceğimiz sayıyı parantez içine alıyoruz.\n",
    "a = 43\n",
    "float(a)"
   ]
  },
  {
   "cell_type": "code",
   "execution_count": 2,
   "metadata": {},
   "outputs": [
    {
     "data": {
      "text/plain": [
       "-1.0"
      ]
     },
     "execution_count": 2,
     "metadata": {},
     "output_type": "execute_result"
    }
   ],
   "source": [
    "float(-1)"
   ]
  },
  {
   "cell_type": "markdown",
   "metadata": {},
   "source": [
    "**Ondalıklı Sayıyı Tamsayıya Çevirme**\n",
    "\n",
    "Bir ondalıklı sayıyı tamsayıya çevirmek için int() fonksiyonunu kullanabiliriz.Sonuç, ondalıklı sayının tam kısmı olarak karşımıza çıkacak."
   ]
  },
  {
   "cell_type": "code",
   "execution_count": 3,
   "metadata": {},
   "outputs": [
    {
     "data": {
      "text/plain": [
       "4"
      ]
     },
     "execution_count": 3,
     "metadata": {},
     "output_type": "execute_result"
    }
   ],
   "source": [
    "int(4.7)"
   ]
  },
  {
   "cell_type": "code",
   "execution_count": 4,
   "metadata": {},
   "outputs": [
    {
     "data": {
      "text/plain": [
       "3"
      ]
     },
     "execution_count": 4,
     "metadata": {},
     "output_type": "execute_result"
    }
   ],
   "source": [
    "int(3.14)"
   ]
  },
  {
   "cell_type": "code",
   "execution_count": 5,
   "metadata": {},
   "outputs": [
    {
     "data": {
      "text/plain": [
       "2"
      ]
     },
     "execution_count": 5,
     "metadata": {},
     "output_type": "execute_result"
    }
   ],
   "source": [
    "a = 4\n",
    "b = 2\n",
    "int(a/b)"
   ]
  },
  {
   "cell_type": "markdown",
   "metadata": {},
   "source": [
    "**Sayıları Stringlere Çevirme**\n",
    "\n",
    "Bir sayıyı string'e çevirmek için str() fonksiyonunu kullanabiliriz.Sayıyı oluşturan tüm rakamlar veya noktalar birer karaktere dönüşecek."
   ]
  },
  {
   "cell_type": "code",
   "execution_count": 6,
   "metadata": {},
   "outputs": [
    {
     "data": {
      "text/plain": [
       "'32324324'"
      ]
     },
     "execution_count": 6,
     "metadata": {},
     "output_type": "execute_result"
    }
   ],
   "source": [
    "a = 32324324\n",
    "b = str(a)\n",
    "b"
   ]
  },
  {
   "cell_type": "code",
   "execution_count": 7,
   "metadata": {},
   "outputs": [
    {
     "data": {
      "text/plain": [
       "8"
      ]
     },
     "execution_count": 7,
     "metadata": {},
     "output_type": "execute_result"
    }
   ],
   "source": [
    "len(b)"
   ]
  },
  {
   "cell_type": "markdown",
   "metadata": {},
   "source": [
    "**Stringleri Tamsayıya Çevirme**\n",
    "\n",
    "Bir string'i bir tamsayıya çevirmek istediğimiz zaman int() fonksiyonunu kullanabiliriz. Ancak biraz dikkatli olmamızda fayda var. Dönüştürme işlemini yaparken stringin herbir karakterinin bir rakam olduğundan emin olmalıyız."
   ]
  },
  {
   "cell_type": "code",
   "execution_count": 8,
   "metadata": {},
   "outputs": [
    {
     "data": {
      "text/plain": [
       "32434324324234"
      ]
     },
     "execution_count": 8,
     "metadata": {},
     "output_type": "execute_result"
    }
   ],
   "source": [
    "# Doğru\n",
    "a = \"32434324324234\"\n",
    "b = int(a)\n",
    "b"
   ]
  },
  {
   "cell_type": "code",
   "execution_count": 9,
   "metadata": {},
   "outputs": [
    {
     "ename": "ValueError",
     "evalue": "invalid literal for int() with base 10: 'dasdasd343435'",
     "output_type": "error",
     "traceback": [
      "\u001b[1;31m---------------------------------------------------------------------------\u001b[0m",
      "\u001b[1;31mValueError\u001b[0m                                Traceback (most recent call last)",
      "\u001b[1;32mc:\\Users\\yasin\\Python_Workspace\\Objeler ve veri yapıları\\4.veri tipi dönüşümü.ipynb Cell 13'\u001b[0m in \u001b[0;36m<module>\u001b[1;34m\u001b[0m\n\u001b[0;32m      <a href='vscode-notebook-cell:/c%3A/Users/yasin/Python_Workspace/Objeler%20ve%20veri%20yap%C4%B1lar%C4%B1/4.veri%20tipi%20d%C3%B6n%C3%BC%C5%9F%C3%BCm%C3%BC.ipynb#ch0000020?line=0'>1</a>\u001b[0m \u001b[39m# Hatalı - Her bir karakterin 10'luk tabanda olması gerekli.\u001b[39;00m\n\u001b[0;32m      <a href='vscode-notebook-cell:/c%3A/Users/yasin/Python_Workspace/Objeler%20ve%20veri%20yap%C4%B1lar%C4%B1/4.veri%20tipi%20d%C3%B6n%C3%BC%C5%9F%C3%BCm%C3%BC.ipynb#ch0000020?line=1'>2</a>\u001b[0m a \u001b[39m=\u001b[39m \u001b[39m\"\u001b[39m\u001b[39mdasdasd343435\u001b[39m\u001b[39m\"\u001b[39m\n\u001b[1;32m----> <a href='vscode-notebook-cell:/c%3A/Users/yasin/Python_Workspace/Objeler%20ve%20veri%20yap%C4%B1lar%C4%B1/4.veri%20tipi%20d%C3%B6n%C3%BC%C5%9F%C3%BCm%C3%BC.ipynb#ch0000020?line=2'>3</a>\u001b[0m b \u001b[39m=\u001b[39m \u001b[39mint\u001b[39;49m(a)\n\u001b[0;32m      <a href='vscode-notebook-cell:/c%3A/Users/yasin/Python_Workspace/Objeler%20ve%20veri%20yap%C4%B1lar%C4%B1/4.veri%20tipi%20d%C3%B6n%C3%BC%C5%9F%C3%BCm%C3%BC.ipynb#ch0000020?line=3'>4</a>\u001b[0m b\n",
      "\u001b[1;31mValueError\u001b[0m: invalid literal for int() with base 10: 'dasdasd343435'"
     ]
    }
   ],
   "source": [
    "# Hatalı - Her bir karakterin 10'luk tabanda olması gerekli.\n",
    "a = \"dasdasd343435\"\n",
    "b = int(a)\n",
    "b"
   ]
  },
  {
   "cell_type": "markdown",
   "metadata": {},
   "source": [
    "**Stringleri Ondalıklı Sayıya Çevirme**\n",
    "\n",
    "Bir string'i bir ondalıklı sayıya çevirmek istediğimiz zaman float() fonksiyonunu kullanabiliriz. Ancak biraz dikkatli olmamızda fayda var. Dönüştürme işlemini yaparken stringin ondalıklı sayı formatına uygun olduğundan emin olmalıyız."
   ]
  },
  {
   "cell_type": "code",
   "execution_count": 10,
   "metadata": {},
   "outputs": [
    {
     "data": {
      "text/plain": [
       "3.1444545"
      ]
     },
     "execution_count": 10,
     "metadata": {},
     "output_type": "execute_result"
    }
   ],
   "source": [
    "# Doğru Kod\n",
    "a = \"3.1444545\"\n",
    "b = float(a)\n",
    "b"
   ]
  },
  {
   "cell_type": "code",
   "execution_count": 11,
   "metadata": {},
   "outputs": [
    {
     "ename": "ValueError",
     "evalue": "could not convert string to float: '3.14.324324'",
     "output_type": "error",
     "traceback": [
      "\u001b[1;31m---------------------------------------------------------------------------\u001b[0m",
      "\u001b[1;31mValueError\u001b[0m                                Traceback (most recent call last)",
      "\u001b[1;32mc:\\Users\\yasin\\Python_Workspace\\Objeler ve veri yapıları\\4.veri tipi dönüşümü.ipynb Cell 16'\u001b[0m in \u001b[0;36m<module>\u001b[1;34m\u001b[0m\n\u001b[0;32m      <a href='vscode-notebook-cell:/c%3A/Users/yasin/Python_Workspace/Objeler%20ve%20veri%20yap%C4%B1lar%C4%B1/4.veri%20tipi%20d%C3%B6n%C3%BC%C5%9F%C3%BCm%C3%BC.ipynb#ch0000025?line=0'>1</a>\u001b[0m \u001b[39m# Hatalı Kod\u001b[39;00m\n\u001b[0;32m      <a href='vscode-notebook-cell:/c%3A/Users/yasin/Python_Workspace/Objeler%20ve%20veri%20yap%C4%B1lar%C4%B1/4.veri%20tipi%20d%C3%B6n%C3%BC%C5%9F%C3%BCm%C3%BC.ipynb#ch0000025?line=1'>2</a>\u001b[0m a \u001b[39m=\u001b[39m \u001b[39m\"\u001b[39m\u001b[39m3.14.324324\u001b[39m\u001b[39m\"\u001b[39m\n\u001b[1;32m----> <a href='vscode-notebook-cell:/c%3A/Users/yasin/Python_Workspace/Objeler%20ve%20veri%20yap%C4%B1lar%C4%B1/4.veri%20tipi%20d%C3%B6n%C3%BC%C5%9F%C3%BCm%C3%BC.ipynb#ch0000025?line=2'>3</a>\u001b[0m b \u001b[39m=\u001b[39m \u001b[39mfloat\u001b[39;49m(a)\n",
      "\u001b[1;31mValueError\u001b[0m: could not convert string to float: '3.14.324324'"
     ]
    }
   ],
   "source": [
    "# Hatalı Kod\n",
    "a = \"3.14.324324\"\n",
    "b = float(a)\n"
   ]
  }
 ],
 "metadata": {
  "interpreter": {
   "hash": "4fa59041cd870ab3d604dcd3b058f8fae0c9452c78486949070723dde45d73e4"
  },
  "kernelspec": {
   "display_name": "Python 3.10.2 64-bit",
   "language": "python",
   "name": "python3"
  },
  "language_info": {
   "codemirror_mode": {
    "name": "ipython",
    "version": 3
   },
   "file_extension": ".py",
   "mimetype": "text/x-python",
   "name": "python",
   "nbconvert_exporter": "python",
   "pygments_lexer": "ipython3",
   "version": "3.10.2"
  },
  "orig_nbformat": 4
 },
 "nbformat": 4,
 "nbformat_minor": 2
}
