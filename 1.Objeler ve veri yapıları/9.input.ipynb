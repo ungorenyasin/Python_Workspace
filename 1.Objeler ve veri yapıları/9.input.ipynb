{
 "cells": [
  {
   "cell_type": "markdown",
   "metadata": {},
   "source": [
    "## Kullanıcıdan Girdi Alma - input() Fonksiyonu\n",
    "\n",
    "Programlama yaparken kullanıcıdan girdi almak oldukça önemlidir. Pythonda kullanıcıdan girdi almamızı sağlayan input() fonksiyonu bulunmaktadır.\n",
    "\n",
    "**input() fonksiyonu kullanımı**\n",
    "\n",
    "input() fonksiyonu şu şekilde kullanılabilir."
   ]
  },
  {
   "cell_type": "code",
   "execution_count": 1,
   "metadata": {},
   "outputs": [
    {
     "data": {
      "text/plain": [
       "'18'"
      ]
     },
     "execution_count": 1,
     "metadata": {},
     "output_type": "execute_result"
    }
   ],
   "source": [
    "input() # Çalıtırdığımız zaman input fonksiyonu bizden bir girdi bekler."
   ]
  },
  {
   "cell_type": "code",
   "execution_count": 2,
   "metadata": {},
   "outputs": [
    {
     "data": {
      "text/plain": [
       "'12'"
      ]
     },
     "execution_count": 2,
     "metadata": {},
     "output_type": "execute_result"
    }
   ],
   "source": [
    "input(\"Lütfen bir sayı giriniz:\")"
   ]
  },
  {
   "cell_type": "code",
   "execution_count": 3,
   "metadata": {},
   "outputs": [
    {
     "name": "stdout",
     "output_type": "stream",
     "text": [
      "Kullanıcının girdiği değer: 11\n"
     ]
    }
   ],
   "source": [
    "a = input(\"Lütfen bir sayı giriniz:\") # Kullanıcıdan aldığımız değer a değişkenine eşit olacak.\n",
    "print(\"Kullanıcının girdiği değer:\",a)"
   ]
  },
  {
   "cell_type": "code",
   "execution_count": 4,
   "metadata": {},
   "outputs": [
    {
     "name": "stdout",
     "output_type": "stream",
     "text": [
      "<class 'str'>\n"
     ]
    }
   ],
   "source": [
    "a = input(\"Lütfen bir sayı giriniz:\")\n",
    "print(type(a))"
   ]
  },
  {
   "cell_type": "markdown",
   "metadata": {},
   "source": [
    "Eğer biz bir sayı ile işlem yapacaksak kullanıcıdan aldığımız değere (stringi) float ya da int fonksiyonuyla **veri tipi** dönüştürme işlemi yapmamız gerekir. Çünkü aşağıdaki gibi bir program yanlış çalışacaktır."
   ]
  },
  {
   "cell_type": "code",
   "execution_count": 7,
   "metadata": {},
   "outputs": [
    {
     "name": "stdout",
     "output_type": "stream",
     "text": [
      "121212\n"
     ]
    }
   ],
   "source": [
    "# Hatalı Çalışma\n",
    "a = input(\"Lütfen bir sayı giriniz:\")\n",
    "print(a * 3) # Girdiğimiz değer 5 ise sonucu 15 bekleriz. Ancak sonuç 555 şeklinde ortaya çıkar."
   ]
  },
  {
   "cell_type": "code",
   "execution_count": 6,
   "metadata": {},
   "outputs": [
    {
     "name": "stdout",
     "output_type": "stream",
     "text": [
      "36\n"
     ]
    }
   ],
   "source": [
    "# Doğru Çalışma\n",
    "a = int(input(\"Lütfen bir sayı giriniz:\")) # Veri tipi dönüşümü\n",
    "print(a * 3) "
   ]
  },
  {
   "cell_type": "code",
   "execution_count": 8,
   "metadata": {},
   "outputs": [
    {
     "name": "stdout",
     "output_type": "stream",
     "text": [
      "121212\n"
     ]
    }
   ],
   "source": [
    "# Hatalı Çalışma\n",
    "a = input(\"Lütfen bir sayı giriniz:\")\n",
    "print(a * 3) # Girdiğimiz değer 5.4 ise sonucu 16.2 bekleriz. Ancak sonuç 5.45.45.4 şeklinde ortaya çıkar."
   ]
  },
  {
   "cell_type": "code",
   "execution_count": 9,
   "metadata": {},
   "outputs": [
    {
     "name": "stdout",
     "output_type": "stream",
     "text": [
      "45.0\n"
     ]
    }
   ],
   "source": [
    "# Doğru Çalışma\n",
    "a = float(input(\"Lütfen bir sayı giriniz:\"))\n",
    "print(a * 3) # Girdiğimiz değer 5.4 ise sonucu 16.2 bekleriz. Ancak sonuç 5.45.45.4 şeklinde ortaya çıkar."
   ]
  },
  {
   "cell_type": "code",
   "execution_count": 10,
   "metadata": {},
   "outputs": [
    {
     "name": "stdout",
     "output_type": "stream",
     "text": [
      "Toplamları: 67\n"
     ]
    }
   ],
   "source": [
    "a = int(input(\"Birinci Sayı:\"))\n",
    "b = int(input(\"İkinci Sayı:\"))\n",
    "c = int(input(\"Üçüncü Sayı:\"))\n",
    "\n",
    "print(\"Toplamları:\",a+b+c)"
   ]
  },
  {
   "cell_type": "code",
   "execution_count": null,
   "metadata": {},
   "outputs": [],
   "source": []
  }
 ],
 "metadata": {
  "interpreter": {
   "hash": "4fa59041cd870ab3d604dcd3b058f8fae0c9452c78486949070723dde45d73e4"
  },
  "kernelspec": {
   "display_name": "Python 3.10.2 64-bit",
   "language": "python",
   "name": "python3"
  },
  "language_info": {
   "codemirror_mode": {
    "name": "ipython",
    "version": 3
   },
   "file_extension": ".py",
   "mimetype": "text/x-python",
   "name": "python",
   "nbconvert_exporter": "python",
   "pygments_lexer": "ipython3",
   "version": "3.10.2"
  },
  "orig_nbformat": 4
 },
 "nbformat": 4,
 "nbformat_minor": 2
}
